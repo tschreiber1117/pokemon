{
 "cells": [
  {
   "cell_type": "code",
   "execution_count": null,
   "id": "7dc2d7ca",
   "metadata": {},
   "outputs": [],
   "source": [
    "# API stands for application programming interface - what an API actually does is provide a way for different servers, devices, and applications to send information back and forth in a commonly understood structure.\n",
    "# So using an API, we can send data from an application written in one programming language to an application written in another programming languare on a different server, and both applications can understand that data.\n",
    "\n",
    "# It's kinda like the kitchen in a restaurant -> they take the unprepared food items, chop them up, cook them, and lay them out nicely presented on a plate for the customer to consume as they please. \n",
    "# API's use data formats that can be understood by multiple programming languages -> the most common one we will use is called JSON data - JavaScrip Object Notation\n",
    "\n"
   ]
  },
  {
   "cell_type": "code",
   "execution_count": 2,
   "id": "d2a85103",
   "metadata": {},
   "outputs": [
    {
     "data": {
      "text/plain": [
       "200"
      ]
     },
     "execution_count": 2,
     "metadata": {},
     "output_type": "execute_result"
    }
   ],
   "source": [
    "import requests as r # often requests is imported under the alias r\n",
    "\n",
    "data = r.get('https://pokeapi.co/api/v2/pokemon/ditto')\n",
    "data.status_code"
   ]
  },
  {
   "cell_type": "code",
   "execution_count": 8,
   "id": "3cc98c80",
   "metadata": {},
   "outputs": [
    {
     "data": {
      "text/plain": [
       "'limber'"
      ]
     },
     "execution_count": 8,
     "metadata": {},
     "output_type": "execute_result"
    }
   ],
   "source": [
    "ditto_data = data.json()\n",
    "ditto_data['abilities'][0]['ability']['name']"
   ]
  },
  {
   "cell_type": "code",
   "execution_count": null,
   "id": "092ba6f0",
   "metadata": {},
   "outputs": [],
   "source": [
    "# In-class Ex #1\n",
    "# from this API Endpoint: 'https://pokeapi.co/api/v2/pokemon/entei'\n",
    "# Access the string 'emerald' thats located somewhere within game_indices\n"
   ]
  },
  {
   "cell_type": "code",
   "execution_count": 38,
   "id": "25510808",
   "metadata": {},
   "outputs": [
    {
     "data": {
      "text/plain": [
       "200"
      ]
     },
     "execution_count": 38,
     "metadata": {},
     "output_type": "execute_result"
    }
   ],
   "source": [
    "import requests as r\n",
    "\n",
    "data = r.get('https://pokeapi.co/api/v2/pokemon/entei')\n",
    "data.status_code"
   ]
  },
  {
   "cell_type": "code",
   "execution_count": 22,
   "id": "766123f6",
   "metadata": {},
   "outputs": [
    {
     "data": {
      "text/plain": [
       "'emerald'"
      ]
     },
     "execution_count": 22,
     "metadata": {},
     "output_type": "execute_result"
    }
   ],
   "source": [
    "entei = data.json()\n",
    "entei['game_indices'][5]['version']['name']"
   ]
  },
  {
   "cell_type": "code",
   "execution_count": 29,
   "id": "14abfec9",
   "metadata": {},
   "outputs": [
    {
     "name": "stdout",
     "output_type": "stream",
     "text": [
      " LINE 5: emerald\n",
      "\n",
      "\n",
      "LINE 11: gold\n",
      "LINE 11: silver\n",
      "LINE 11: crystal\n",
      "LINE 11: ruby\n",
      "LINE 11: sapphire\n",
      "LINE 11: emerald\n",
      "LINE 11: firered\n",
      "LINE 11: leafgreen\n",
      "LINE 11: diamond\n",
      "LINE 11: pearl\n",
      "LINE 11: platinum\n",
      "LINE 11: heartgold\n",
      "LINE 11: soulsilver\n",
      "LINE 11: black\n",
      "LINE 11: white\n",
      "LINE 11: black-2\n",
      "LINE 11: white-2\n",
      "\n",
      "\n",
      "Entei is in the following games: ['gold', 'silver', 'crystal', 'ruby', 'sapphire', 'emerald', 'firered', 'leafgreen', 'diamond', 'pearl', 'platinum', 'heartgold', 'soulsilver', 'black', 'white', 'black-2', 'white-2']\n"
     ]
    }
   ],
   "source": [
    "# what are the names of all of the Pokemon games that Entei is in?\n",
    "# I want a list of the names of every game Entei is in\n",
    "# Well, if I can do it for one piece of the data, I can do it for them all. \n",
    "print(f\" LINE 5: {entei['game_indices'][5]['version']['name']}\")\n",
    "print('\\n')\n",
    "\n",
    "# I can do it for all of the similarly structured data\n",
    "entei_games = []\n",
    "for game in entei['game_indices']:\n",
    "    print(f\"LINE 11: {game['version']['name']}\")\n",
    "    entei_games.append(game['version']['name'])\n",
    "\n",
    "print('\\n')\n",
    "print(f'Entei is in the following games: {entei_games}')\n"
   ]
  },
  {
   "cell_type": "code",
   "execution_count": 56,
   "id": "f278e35d",
   "metadata": {},
   "outputs": [],
   "source": [
    "a_pokemon = {\n",
    "    'name': 'name1,\n",
    "    'abilities': ['roar', 'tail whip', 'thunderbolt'],\n",
    "    'weight': 45,\n",
    "    'types': 'fire'\n",
    "}"
   ]
  },
  {
   "cell_type": "code",
   "execution_count": 31,
   "id": "17463398",
   "metadata": {},
   "outputs": [
    {
     "data": {
      "text/plain": [
       "200"
      ]
     },
     "execution_count": 31,
     "metadata": {},
     "output_type": "execute_result"
    }
   ],
   "source": [
    "data = r.get('https://pokeapi.co/api/v2/pokemon/?offset=20&limit=20')\n",
    "data.status_code"
   ]
  },
  {
   "cell_type": "code",
   "execution_count": 250,
   "id": "2ee7a74d",
   "metadata": {},
   "outputs": [],
   "source": [
    "import requests as r\n",
    "\n",
    "data = r.get('https://pokeapi.co/api/v2/pokemon/?offset=20&limit=20')\n",
    "data.status_code\n",
    "spearow_data = data.json()\n",
    "fearow_data = data.json()\n",
    "ekans_data = data.json()\n",
    "arbok_data = data.json()\n",
    "pikachu_data = data.json()\n",
    "raichu_data = data.json()\n",
    "sandshrew_data = data.json()\n",
    "sandslash_data = data.json()\n",
    "nidoranf_data = data.json()\n",
    "nidorina_data = data.json()\n",
    "nidoqueen_data = data.json()\n",
    "nidoranm_data = data.json()\n",
    "nidorino_data = data.json()\n",
    "nidoking_data = data.json()\n",
    "clefairy_data = data.json()\n",
    "clefable_data = data.json()\n",
    "vulpix_data = data.json()\n",
    "ninetales_data = data.json()\n",
    "jigglypuff_data = data.json()\n",
    "wigglytuff_data = data.json()"
   ]
  },
  {
   "cell_type": "code",
   "execution_count": 170,
   "id": "b62daddf",
   "metadata": {},
   "outputs": [
    {
     "data": {
      "text/plain": [
       "<Response [200]>"
      ]
     },
     "execution_count": 170,
     "metadata": {},
     "output_type": "execute_result"
    }
   ],
   "source": [
    "data"
   ]
  },
  {
   "cell_type": "code",
   "execution_count": 339,
   "id": "cf45b501",
   "metadata": {},
   "outputs": [
    {
     "name": "stdout",
     "output_type": "stream",
     "text": [
      "spearow fearow ekans arbok pikachu raichu sandshrew sandslash nidoran-f nidorina nidoqueen nidoran-m nidorino nidoking clefairy clefable vulpix ninetales jigglypuff wigglytuff\n"
     ]
    }
   ],
   "source": [
    "#NAMES\n",
    "\n",
    "name1 = spearow_data['results'][0]['name']\n",
    "name2 = fearow_data['results'][1]['name']\n",
    "name3 = ekans_data['results'][2]['name']\n",
    "name4 = arbok_data['results'][3]['name']\n",
    "name5 = pikachu_data['results'][4]['name']\n",
    "name6 = raichu_data['results'][5]['name']\n",
    "name7 = sandshrew_data['results'][6]['name']\n",
    "name8 = sandslash_data['results'][7]['name']\n",
    "name9 = nidoranf_data['results'][8]['name']\n",
    "name10 = nidorina_data['results'][9]['name']\n",
    "name11 = nidoqueen_data['results'][10]['name']\n",
    "name12 = nidoranm_data['results'][11]['name']\n",
    "name13 = nidorino_data['results'][12]['name']\n",
    "name14 = nidoking_data['results'][13]['name']\n",
    "name15 = clefairy_data['results'][14]['name']\n",
    "name16 = clefable_data['results'][15]['name']\n",
    "name17 = vulpix_data['results'][16]['name']\n",
    "name18 = ninetales_data['results'][17]['name']\n",
    "name19 = jigglypuff_data['results'][18]['name']\n",
    "name20 = wigglytuff_data['results'][19]['name']\n",
    "print(name1, name2, name3, name4, name5, name6, name7, name8, name9, name10, name11, name12, name13, name14, name15, name16, name17, name18, name19, name20)"
   ]
  },
  {
   "cell_type": "code",
   "execution_count": 305,
   "id": "07a9c3a4",
   "metadata": {},
   "outputs": [
    {
     "data": {
      "text/plain": [
       "'normal'"
      ]
     },
     "execution_count": 305,
     "metadata": {},
     "output_type": "execute_result"
    }
   ],
   "source": [
    "name1 = spearow_data['results'][0]['name']\n",
    "abil1_1 = abil['abilities'][0]['ability']['name']\n",
    "abil1_2 = abil['abilities'][1]['ability']['name']\n",
    "weight1 = weight['weight']\n",
    "type1_1 = type['types'][0]['type']['name']\n",
    "type1_2 = type['types'][1]['type']['name']"
   ]
  },
  {
   "cell_type": "code",
   "execution_count": 342,
   "id": "d80a0123",
   "metadata": {},
   "outputs": [
    {
     "data": {
      "text/plain": [
       "20"
      ]
     },
     "execution_count": 342,
     "metadata": {},
     "output_type": "execute_result"
    }
   ],
   "source": [
    "data = r.get('https://pokeapi.co/api/v2/pokemon/22/')\n",
    "name2 = fearow_data['results'][1]['name']\n",
    "abil2_1 = abil['abilities'][0]['ability']['name']\n",
    "abil2_2 = abil['abilities'][1]['ability']['name']\n",
    "weight2 = weight['weight']\n",
    "type2_1 = type['types'][0]['type']['name']\n",
    "type2_2 = type['types'][1]['type']['name']\n",
    "weight2"
   ]
  },
  {
   "cell_type": "code",
   "execution_count": 344,
   "id": "599095f3",
   "metadata": {},
   "outputs": [
    {
     "data": {
      "text/plain": [
       "'keen-eye'"
      ]
     },
     "execution_count": 344,
     "metadata": {},
     "output_type": "execute_result"
    }
   ],
   "source": [
    "data = r.get('https://pokeapi.co/api/v2/pokemon/23/')\n",
    "name3 = ekans_data['results'][2]['name']\n",
    "abil3_1 = abil['abilities'][0]['ability']['name']\n",
    "abil3_2 = abil['abilities'][1]['ability']['name']\n",
    "weight3 = weight['weight']\n",
    "type3_1 = type['types'][0]['type']['name']\n",
    "type3_2 = type['types'][1]['type']['name']\n",
    "abil3_1"
   ]
  },
  {
   "cell_type": "code",
   "execution_count": 225,
   "id": "24facac0",
   "metadata": {},
   "outputs": [
    {
     "data": {
      "text/plain": [
       "'arbok'"
      ]
     },
     "execution_count": 225,
     "metadata": {},
     "output_type": "execute_result"
    }
   ],
   "source": [
    "name4 = arbok_data['results'][3]['name']"
   ]
  },
  {
   "cell_type": "code",
   "execution_count": 226,
   "id": "72a40711",
   "metadata": {},
   "outputs": [
    {
     "data": {
      "text/plain": [
       "'pikachu'"
      ]
     },
     "execution_count": 226,
     "metadata": {},
     "output_type": "execute_result"
    }
   ],
   "source": [
    "name5 = pikachu_data['results'][4]['name']"
   ]
  },
  {
   "cell_type": "code",
   "execution_count": 227,
   "id": "977b2aa3",
   "metadata": {},
   "outputs": [
    {
     "data": {
      "text/plain": [
       "'raichu'"
      ]
     },
     "execution_count": 227,
     "metadata": {},
     "output_type": "execute_result"
    }
   ],
   "source": [
    "name6 = raichu_data['results'][5]['name']"
   ]
  },
  {
   "cell_type": "code",
   "execution_count": 228,
   "id": "f989541a",
   "metadata": {},
   "outputs": [
    {
     "data": {
      "text/plain": [
       "'sandshrew'"
      ]
     },
     "execution_count": 228,
     "metadata": {},
     "output_type": "execute_result"
    }
   ],
   "source": [
    "name7 = sandshrew_data['results'][6]['name']"
   ]
  },
  {
   "cell_type": "code",
   "execution_count": 229,
   "id": "d9d8927f",
   "metadata": {},
   "outputs": [
    {
     "data": {
      "text/plain": [
       "'sandslash'"
      ]
     },
     "execution_count": 229,
     "metadata": {},
     "output_type": "execute_result"
    }
   ],
   "source": [
    "name8 = sandslash_data['results'][7]['name']"
   ]
  },
  {
   "cell_type": "code",
   "execution_count": 245,
   "id": "7eb8eab0",
   "metadata": {},
   "outputs": [
    {
     "name": "stdout",
     "output_type": "stream",
     "text": [
      "nidoran-f\n"
     ]
    }
   ],
   "source": [
    "name9 = nidoranf_data['results'][8]['name']"
   ]
  },
  {
   "cell_type": "code",
   "execution_count": 231,
   "id": "22b4d6ea",
   "metadata": {},
   "outputs": [
    {
     "data": {
      "text/plain": [
       "'nidorina'"
      ]
     },
     "execution_count": 231,
     "metadata": {},
     "output_type": "execute_result"
    }
   ],
   "source": [
    "name10 = nidorina_data['results'][9]['name']"
   ]
  },
  {
   "cell_type": "code",
   "execution_count": 232,
   "id": "3aa4e64c",
   "metadata": {},
   "outputs": [
    {
     "data": {
      "text/plain": [
       "'nidoqueen'"
      ]
     },
     "execution_count": 232,
     "metadata": {},
     "output_type": "execute_result"
    }
   ],
   "source": [
    "name11 = nidoqueen_data['results'][10]['name']"
   ]
  },
  {
   "cell_type": "code",
   "execution_count": 233,
   "id": "0d31db01",
   "metadata": {},
   "outputs": [
    {
     "data": {
      "text/plain": [
       "'nidoran-m'"
      ]
     },
     "execution_count": 233,
     "metadata": {},
     "output_type": "execute_result"
    }
   ],
   "source": [
    "name12 = nidoranm_data['results'][11]['name']"
   ]
  },
  {
   "cell_type": "code",
   "execution_count": 234,
   "id": "a4ac993b",
   "metadata": {},
   "outputs": [
    {
     "data": {
      "text/plain": [
       "'nidorino'"
      ]
     },
     "execution_count": 234,
     "metadata": {},
     "output_type": "execute_result"
    }
   ],
   "source": [
    "name13 = nidorino_data['results'][12]['name']"
   ]
  },
  {
   "cell_type": "code",
   "execution_count": 235,
   "id": "865211d9",
   "metadata": {},
   "outputs": [
    {
     "data": {
      "text/plain": [
       "'nidoking'"
      ]
     },
     "execution_count": 235,
     "metadata": {},
     "output_type": "execute_result"
    }
   ],
   "source": [
    "name14 = nidoking_data['results'][13]['name']"
   ]
  },
  {
   "cell_type": "code",
   "execution_count": 236,
   "id": "bef7ff42",
   "metadata": {},
   "outputs": [
    {
     "data": {
      "text/plain": [
       "'clefairy'"
      ]
     },
     "execution_count": 236,
     "metadata": {},
     "output_type": "execute_result"
    }
   ],
   "source": [
    "name15 = clefairy_data['results'][14]['name']"
   ]
  },
  {
   "cell_type": "code",
   "execution_count": 237,
   "id": "606f2d14",
   "metadata": {},
   "outputs": [
    {
     "data": {
      "text/plain": [
       "'clefable'"
      ]
     },
     "execution_count": 237,
     "metadata": {},
     "output_type": "execute_result"
    }
   ],
   "source": [
    "name16 = clefable_data['results'][15]['name']"
   ]
  },
  {
   "cell_type": "code",
   "execution_count": 238,
   "id": "2c144481",
   "metadata": {},
   "outputs": [
    {
     "data": {
      "text/plain": [
       "'vulpix'"
      ]
     },
     "execution_count": 238,
     "metadata": {},
     "output_type": "execute_result"
    }
   ],
   "source": [
    "name17 = vulpix_data['results'][16]['name']"
   ]
  },
  {
   "cell_type": "code",
   "execution_count": 239,
   "id": "a10a05a3",
   "metadata": {},
   "outputs": [
    {
     "data": {
      "text/plain": [
       "'ninetales'"
      ]
     },
     "execution_count": 239,
     "metadata": {},
     "output_type": "execute_result"
    }
   ],
   "source": [
    "name18 = ninetales_data['results'][17]['name']"
   ]
  },
  {
   "cell_type": "code",
   "execution_count": 240,
   "id": "e6108855",
   "metadata": {},
   "outputs": [
    {
     "data": {
      "text/plain": [
       "'jigglypuff'"
      ]
     },
     "execution_count": 240,
     "metadata": {},
     "output_type": "execute_result"
    }
   ],
   "source": [
    "name19 = jigglypuff_data['results'][18]['name']"
   ]
  },
  {
   "cell_type": "code",
   "execution_count": 241,
   "id": "66d12fc0",
   "metadata": {},
   "outputs": [
    {
     "data": {
      "text/plain": [
       "'wigglytuff'"
      ]
     },
     "execution_count": 241,
     "metadata": {},
     "output_type": "execute_result"
    }
   ],
   "source": [
    "name20 = wifflytuff_data['results'][19]['name']"
   ]
  },
  {
   "cell_type": "code",
   "execution_count": 319,
   "id": "2420744d",
   "metadata": {},
   "outputs": [
    {
     "data": {
      "text/plain": [
       "{'name': 'spearow',\n",
       " 'abilities': ('keen-eye', 'sniper'),\n",
       " 'weight': 20,\n",
       " 'types': ('normal', 'flying')}"
      ]
     },
     "execution_count": 319,
     "metadata": {},
     "output_type": "execute_result"
    }
   ],
   "source": [
    "spearow_dictionary = {\n",
    "    'name': (name1),\n",
    "    'abilities': (abil1_1,abil1_2),\n",
    "    'weight': (weight1),\n",
    "    'types': (type1_1,type1_2),\n",
    "}\n",
    "spearow_dictionary"
   ]
  },
  {
   "cell_type": "code",
   "execution_count": 336,
   "id": "9cd381bc",
   "metadata": {
    "scrolled": true
   },
   "outputs": [
    {
     "data": {
      "text/plain": [
       "200"
      ]
     },
     "execution_count": 336,
     "metadata": {},
     "output_type": "execute_result"
    }
   ],
   "source": [
    "import requests as r\n",
    "\n",
    "abil_data = r.get('https://pokeapi.co/api/v2/pokemon/21/')\n",
    "abil_data.status_code"
   ]
  },
  {
   "cell_type": "code",
   "execution_count": 310,
   "id": "8589b46a",
   "metadata": {},
   "outputs": [
    {
     "name": "stdout",
     "output_type": "stream",
     "text": [
      "keen-eye\n"
     ]
    }
   ],
   "source": [
    "abil = abil_data.json()\n",
    "abil1_1 = abil['abilities'][0]['ability']['name']\n",
    "print(abil1_1)"
   ]
  },
  {
   "cell_type": "code",
   "execution_count": 348,
   "id": "35b13fce",
   "metadata": {},
   "outputs": [
    {
     "name": "stdout",
     "output_type": "stream",
     "text": [
      "sniper\n"
     ]
    }
   ],
   "source": [
    "abil1_2 = abil['abilities'][1]['ability']['name']\n",
    "print(abil1_2)"
   ]
  },
  {
   "cell_type": "code",
   "execution_count": 330,
   "id": "ecec8caf",
   "metadata": {},
   "outputs": [],
   "source": [
    "weight_data = r.get('https://pokeapi.co/api/v2/pokemon/21/')\n",
    "weight = weight_data.json()\n",
    "weight1 = weight['weight']"
   ]
  },
  {
   "cell_type": "code",
   "execution_count": 345,
   "id": "dc2805fa",
   "metadata": {},
   "outputs": [
    {
     "name": "stdout",
     "output_type": "stream",
     "text": [
      "normal\n"
     ]
    }
   ],
   "source": [
    "type_data = r.get('https://pokeapi.co/api/v2/pokemon/21/')\n",
    "type = type_data.json()\n",
    "type1_1 = type['types'][0]['type']['name']\n",
    "print(type1_1)"
   ]
  },
  {
   "cell_type": "code",
   "execution_count": 346,
   "id": "c93790ab",
   "metadata": {},
   "outputs": [
    {
     "name": "stdout",
     "output_type": "stream",
     "text": [
      "flying\n"
     ]
    }
   ],
   "source": [
    "type_data = r.get('https://pokeapi.co/api/v2/pokemon/21/')\n",
    "type = type_data.json()\n",
    "type1_2 = type['types'][1]['type']['name']\n",
    "print(type1_2)"
   ]
  }
 ],
 "metadata": {
  "kernelspec": {
   "display_name": "Python 3",
   "language": "python",
   "name": "python3"
  },
  "language_info": {
   "codemirror_mode": {
    "name": "ipython",
    "version": 3
   },
   "file_extension": ".py",
   "mimetype": "text/x-python",
   "name": "python",
   "nbconvert_exporter": "python",
   "pygments_lexer": "ipython3",
   "version": "3.8.8"
  }
 },
 "nbformat": 4,
 "nbformat_minor": 5
}
