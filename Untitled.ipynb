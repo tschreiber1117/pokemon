{
 "cells": [
  {
   "cell_type": "code",
   "execution_count": null,
   "id": "cc8676f9",
   "metadata": {},
   "outputs": [],
   "source": [
    "#Square(n) sum\n",
    "#Create a function that given a list of integers squares each number passed into it and then sums the results together.\n",
    "#Example Input: [1, 2, 2]\n",
    "#Example Output: 9 \n",
    "#Explanation: 1^2 + 2^2 + 2^2 = 9\n",
    "#Example Input: [3, 4, 5]\n",
    "#Example Output: 50"
   ]
  },
  {
   "cell_type": "code",
   "execution_count": 7,
   "id": "c35b054d",
   "metadata": {},
   "outputs": [
    {
     "name": "stdout",
     "output_type": "stream",
     "text": [
      "9\n"
     ]
    }
   ],
   "source": [
    "def square(list1):\n",
    "    new_list = [i **2 for i in list1]\n",
    "    answer = 0\n",
    "    for i in new_list:\n",
    "        answer = i + answer\n",
    "    return answer\n",
    "print(square([1, 2, 2]))\n",
    "    "
   ]
  },
  {
   "cell_type": "code",
   "execution_count": 4,
   "id": "3c3c57eb",
   "metadata": {},
   "outputs": [
    {
     "ename": "SyntaxError",
     "evalue": "invalid syntax (<ipython-input-4-3be1fe82966d>, line 1)",
     "output_type": "error",
     "traceback": [
      "\u001b[1;36m  File \u001b[1;32m\"<ipython-input-4-3be1fe82966d>\"\u001b[1;36m, line \u001b[1;32m1\u001b[0m\n\u001b[1;33m    def squareSum(list1)\u001b[0m\n\u001b[1;37m                        ^\u001b[0m\n\u001b[1;31mSyntaxError\u001b[0m\u001b[1;31m:\u001b[0m invalid syntax\n"
     ]
    }
   ],
   "source": [
    "def squareSum(list1):\n",
    "    new_list = [i**2 for i in list1]\n",
    "    return sum(new_list)"
   ]
  },
  {
   "cell_type": "code",
   "execution_count": 6,
   "id": "f0a03a58",
   "metadata": {},
   "outputs": [
    {
     "data": {
      "text/plain": [
       "6650"
      ]
     },
     "execution_count": 6,
     "metadata": {},
     "output_type": "execute_result"
    }
   ],
   "source": [
    "def square(list1):\n",
    "    ans = 0\n",
    "    for x in list1:\n",
    "        ans += x**2\n",
    "    return ans\n",
    "square([1, 2, 2, 71, -40])"
   ]
  }
 ],
 "metadata": {
  "kernelspec": {
   "display_name": "Python 3",
   "language": "python",
   "name": "python3"
  },
  "language_info": {
   "codemirror_mode": {
    "name": "ipython",
    "version": 3
   },
   "file_extension": ".py",
   "mimetype": "text/x-python",
   "name": "python",
   "nbconvert_exporter": "python",
   "pygments_lexer": "ipython3",
   "version": "3.8.8"
  }
 },
 "nbformat": 4,
 "nbformat_minor": 5
}
